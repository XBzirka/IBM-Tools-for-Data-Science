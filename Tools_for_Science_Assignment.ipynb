{
  "metadata": {
    "language_info": {
      "codemirror_mode": {
        "name": "python",
        "version": 3
      },
      "file_extension": ".py",
      "mimetype": "text/x-python",
      "name": "python",
      "nbconvert_exporter": "python",
      "pygments_lexer": "ipython3",
      "version": "3.8"
    },
    "kernelspec": {
      "name": "python",
      "display_name": "Pyolite",
      "language": "python"
    }
  },
  "nbformat_minor": 4,
  "nbformat": 4,
  "cells": [
    {
      "cell_type": "markdown",
      "source": "# My Jupyter Notebook on IBM Watson Studio",
      "metadata": {}
    },
    {
      "cell_type": "markdown",
      "source": "**K Wasyleczko**\n\nHigh School Science Teacher",
      "metadata": {}
    },
    {
      "cell_type": "markdown",
      "source": "*I am interested in how to apply data to find solutions to complex problems.*",
      "metadata": {}
    },
    {
      "cell_type": "markdown",
      "source": "### The following code returns the remainder from 242 divided by 3.",
      "metadata": {}
    },
    {
      "cell_type": "code",
      "source": "242%3",
      "metadata": {
        "trusted": true
      },
      "execution_count": 1,
      "outputs": [
        {
          "execution_count": 1,
          "output_type": "execute_result",
          "data": {
            "text/plain": "2"
          },
          "metadata": {}
        }
      ]
    },
    {
      "cell_type": "markdown",
      "source": "|Resource|Website|\n|---|---|\n|Jupyter Notebook|[Jupyter Tutorial](https://www.dataquest.io/blog/jupyter-notebook-tutorial/)|\n|RStudio|[RStudio Cheatsheets](https://www.rstudio.com/resources/cheatsheets/)|\n|GitHub|[GitHub Resources](https://docs.github.com/en/get-started/quickstart/git-and-github-learning-resources)|\n\n<div class=\"alert alert-block alert-info\">\n<b>Did You Know?</b> IBM has a very helpful Jupyter Notebook Cheatsheet .\n</div>\n",
      "metadata": {
        "tags": []
      }
    },
    {
      "cell_type": "code",
      "source": "",
      "metadata": {},
      "execution_count": null,
      "outputs": []
    }
  ]
}